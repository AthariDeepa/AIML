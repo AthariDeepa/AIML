{
  "nbformat": 4,
  "nbformat_minor": 0,
  "metadata": {
    "colab": {
      "provenance": [],
      "authorship_tag": "ABX9TyN9j+q7cfg+WmmmyOfcXjGl",
      "include_colab_link": true
    },
    "kernelspec": {
      "name": "python3",
      "display_name": "Python 3"
    },
    "language_info": {
      "name": "python"
    }
  },
  "cells": [
    {
      "cell_type": "markdown",
      "metadata": {
        "id": "view-in-github",
        "colab_type": "text"
      },
      "source": [
        "<a href=\"https://colab.research.google.com/github/AthariDeepa/AIML/blob/main/Untitled0.ipynb\" target=\"_parent\"><img src=\"https://colab.research.google.com/assets/colab-badge.svg\" alt=\"Open In Colab\"/></a>"
      ]
    },
    {
      "cell_type": "code",
      "source": [
        "import numpy as np\n",
        "names=['deepa','palomi','ashu']\n",
        "print(names)"
      ],
      "metadata": {
        "colab": {
          "base_uri": "https://localhost:8080/"
        },
        "id": "JdT5TXWEvI-n",
        "outputId": "693fcebc-f3e6-4192-d930-3c088f5615ce"
      },
      "execution_count": 7,
      "outputs": [
        {
          "output_type": "stream",
          "name": "stdout",
          "text": [
            "['deepa', 'palomi', 'ashu']\n"
          ]
        }
      ]
    },
    {
      "cell_type": "code",
      "source": [
        "import numpy as np\n",
        "my_array=np.array([1,2,3,4])\n",
        "print(my_array)"
      ],
      "metadata": {
        "colab": {
          "base_uri": "https://localhost:8080/"
        },
        "id": "KGSC1Z4VvkFr",
        "outputId": "53aa6a71-a391-4240-8441-a77ad913fe17"
      },
      "execution_count": 8,
      "outputs": [
        {
          "output_type": "stream",
          "name": "stdout",
          "text": [
            "[1 2 3 4]\n"
          ]
        }
      ]
    },
    {
      "cell_type": "code",
      "source": [
        "import numpy as np\n",
        "num=np.array([1,2,3,4])\n",
        "print(type(num))"
      ],
      "metadata": {
        "colab": {
          "base_uri": "https://localhost:8080/"
        },
        "id": "_MP8M-qmv4ki",
        "outputId": "8ca7d489-aa91-43e0-a067-1ebc6eb14a54"
      },
      "execution_count": 12,
      "outputs": [
        {
          "output_type": "stream",
          "name": "stdout",
          "text": [
            "<class 'numpy.ndarray'>\n"
          ]
        }
      ]
    },
    {
      "cell_type": "code",
      "source": [
        "import numpy as np\n",
        "array1=np.array([3,4,5,6])\n",
        "array2=np.array([2,5,6,7])\n",
        "\n",
        "print(array1*array2)\n",
        "print(array1/array2)\n",
        "print(np.power(array1,2))"
      ],
      "metadata": {
        "colab": {
          "base_uri": "https://localhost:8080/"
        },
        "id": "h2HF2xeVzQM3",
        "outputId": "b53d9033-27db-4ef0-cbc5-691ff065ef4e"
      },
      "execution_count": 18,
      "outputs": [
        {
          "output_type": "stream",
          "name": "stdout",
          "text": [
            "[ 6 20 30 42]\n",
            "[1.5        0.8        0.83333333 0.85714286]\n"
          ]
        }
      ]
    },
    {
      "cell_type": "code",
      "source": [
        "import numpy as np\n",
        "array1=np.array([3,4,5,6])\n",
        "array2=np.array([2,5,6,7])\n",
        "print(\"addition of two:\",array1+array2)"
      ],
      "metadata": {
        "colab": {
          "base_uri": "https://localhost:8080/"
        },
        "id": "RC8wqx9o0cGi",
        "outputId": "94615c55-8cae-45be-8891-12e3a009efc0"
      },
      "execution_count": 17,
      "outputs": [
        {
          "output_type": "stream",
          "name": "stdout",
          "text": [
            "addition of two: [ 5  9 11 13]\n"
          ]
        }
      ]
    },
    {
      "cell_type": "code",
      "source": [
        "import numpy as np\n",
        "my_array=np.array([1,2,3,4,5])\n",
        "sin=np.sin(my_array)\n",
        "print(sin)\n",
        "log=np.log(my_array)\n",
        "print(log)\n",
        "log2=np.log2(my_array)\n",
        "print(log2)\n",
        "exp=np.exp(my_array)\n",
        "print(exp)\n",
        "\n"
      ],
      "metadata": {
        "colab": {
          "base_uri": "https://localhost:8080/"
        },
        "id": "-W2wowYH1tnD",
        "outputId": "18561d3c-79e8-45d0-e588-8af11b391a59"
      },
      "execution_count": 19,
      "outputs": [
        {
          "output_type": "stream",
          "name": "stdout",
          "text": [
            "[ 0.84147098  0.90929743  0.14112001 -0.7568025  -0.95892427]\n",
            "[0.         0.69314718 1.09861229 1.38629436 1.60943791]\n",
            "[0.         1.         1.5849625  2.         2.32192809]\n",
            "[  2.71828183   7.3890561   20.08553692  54.59815003 148.4131591 ]\n"
          ]
        }
      ]
    }
  ]
}